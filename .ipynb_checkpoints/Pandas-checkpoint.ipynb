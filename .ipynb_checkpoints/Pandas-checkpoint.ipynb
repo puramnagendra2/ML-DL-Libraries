{
 "cells": [
  {
   "cell_type": "code",
   "execution_count": 1,
   "id": "ed29e1a7",
   "metadata": {},
   "outputs": [],
   "source": [
    "import numpy as np\n",
    "import pandas as pd\n",
    "import matplotlib.pyplot as plt\n",
    "import seaborn as sns\n",
    "%matplotlib inline"
   ]
  },
  {
   "cell_type": "markdown",
   "id": "af34000a",
   "metadata": {},
   "source": [
    "# Combining & Merging"
   ]
  },
  {
   "cell_type": "code",
   "execution_count": 6,
   "id": "31755669",
   "metadata": {},
   "outputs": [],
   "source": [
    "# pd.merge(left, right, on)\n",
    "# pd.concat([df1, df2], axis=[0/1], join=['outer'/'inner'], sort=[true/false])"
   ]
  },
  {
   "cell_type": "code",
   "execution_count": 53,
   "id": "11eb1a43",
   "metadata": {},
   "outputs": [],
   "source": [
    "df1 = pd.DataFrame({'Branch':['MCA', 'MBA', 'CSE', 'CST'],\n",
    "                    'Names':['Nagendra', 'Nanda', 'Naveen', 'Rama Mohan'],\n",
    "                   'Code': ['1F', '1E', '1A', '1B']}, index=['96', '98', 'A6', 'C8'])\n",
    "df2 = pd.DataFrame({'Department':['Computer Applications',\n",
    "                                 'Computer Science', 'Computer Technology'],\n",
    "                   'Hod': ['Naveen', 'Suresh', 'Ramesh'],\n",
    "                   'Code': ['1F', '1A', '1B']})\n",
    "df3 = pd.DataFrame({'Department':['Computer Applications',\n",
    "                                 'Computer Science', 'Computer Technology'],\n",
    "                   'Hod': ['Naveen', 'Suresh', 'Ramesh']},\n",
    "                   index= ['1F', '1A', '1B'])"
   ]
  },
  {
   "cell_type": "code",
   "execution_count": 54,
   "id": "fd0c53bd",
   "metadata": {},
   "outputs": [
    {
     "data": {
      "text/html": [
       "<div>\n",
       "<style scoped>\n",
       "    .dataframe tbody tr th:only-of-type {\n",
       "        vertical-align: middle;\n",
       "    }\n",
       "\n",
       "    .dataframe tbody tr th {\n",
       "        vertical-align: top;\n",
       "    }\n",
       "\n",
       "    .dataframe thead th {\n",
       "        text-align: right;\n",
       "    }\n",
       "</style>\n",
       "<table border=\"1\" class=\"dataframe\">\n",
       "  <thead>\n",
       "    <tr style=\"text-align: right;\">\n",
       "      <th></th>\n",
       "      <th>Branch</th>\n",
       "      <th>Names</th>\n",
       "      <th>Code</th>\n",
       "    </tr>\n",
       "  </thead>\n",
       "  <tbody>\n",
       "    <tr>\n",
       "      <th>96</th>\n",
       "      <td>MCA</td>\n",
       "      <td>Nagendra</td>\n",
       "      <td>1F</td>\n",
       "    </tr>\n",
       "    <tr>\n",
       "      <th>98</th>\n",
       "      <td>MBA</td>\n",
       "      <td>Nanda</td>\n",
       "      <td>1E</td>\n",
       "    </tr>\n",
       "    <tr>\n",
       "      <th>A6</th>\n",
       "      <td>CSE</td>\n",
       "      <td>Naveen</td>\n",
       "      <td>1A</td>\n",
       "    </tr>\n",
       "    <tr>\n",
       "      <th>C8</th>\n",
       "      <td>CST</td>\n",
       "      <td>Rama Mohan</td>\n",
       "      <td>1B</td>\n",
       "    </tr>\n",
       "  </tbody>\n",
       "</table>\n",
       "</div>"
      ],
      "text/plain": [
       "   Branch       Names Code\n",
       "96    MCA    Nagendra   1F\n",
       "98    MBA       Nanda   1E\n",
       "A6    CSE      Naveen   1A\n",
       "C8    CST  Rama Mohan   1B"
      ]
     },
     "execution_count": 54,
     "metadata": {},
     "output_type": "execute_result"
    }
   ],
   "source": [
    "df1"
   ]
  },
  {
   "cell_type": "code",
   "execution_count": 55,
   "id": "7094c3fe",
   "metadata": {},
   "outputs": [
    {
     "data": {
      "text/html": [
       "<div>\n",
       "<style scoped>\n",
       "    .dataframe tbody tr th:only-of-type {\n",
       "        vertical-align: middle;\n",
       "    }\n",
       "\n",
       "    .dataframe tbody tr th {\n",
       "        vertical-align: top;\n",
       "    }\n",
       "\n",
       "    .dataframe thead th {\n",
       "        text-align: right;\n",
       "    }\n",
       "</style>\n",
       "<table border=\"1\" class=\"dataframe\">\n",
       "  <thead>\n",
       "    <tr style=\"text-align: right;\">\n",
       "      <th></th>\n",
       "      <th>Department</th>\n",
       "      <th>Hod</th>\n",
       "      <th>Code</th>\n",
       "    </tr>\n",
       "  </thead>\n",
       "  <tbody>\n",
       "    <tr>\n",
       "      <th>0</th>\n",
       "      <td>Computer Applications</td>\n",
       "      <td>Naveen</td>\n",
       "      <td>1F</td>\n",
       "    </tr>\n",
       "    <tr>\n",
       "      <th>1</th>\n",
       "      <td>Computer Science</td>\n",
       "      <td>Suresh</td>\n",
       "      <td>1A</td>\n",
       "    </tr>\n",
       "    <tr>\n",
       "      <th>2</th>\n",
       "      <td>Computer Technology</td>\n",
       "      <td>Ramesh</td>\n",
       "      <td>1B</td>\n",
       "    </tr>\n",
       "  </tbody>\n",
       "</table>\n",
       "</div>"
      ],
      "text/plain": [
       "              Department     Hod Code\n",
       "0  Computer Applications  Naveen   1F\n",
       "1       Computer Science  Suresh   1A\n",
       "2    Computer Technology  Ramesh   1B"
      ]
     },
     "execution_count": 55,
     "metadata": {},
     "output_type": "execute_result"
    }
   ],
   "source": [
    "df2"
   ]
  },
  {
   "cell_type": "code",
   "execution_count": 56,
   "id": "da14ac5b",
   "metadata": {},
   "outputs": [
    {
     "data": {
      "text/html": [
       "<div>\n",
       "<style scoped>\n",
       "    .dataframe tbody tr th:only-of-type {\n",
       "        vertical-align: middle;\n",
       "    }\n",
       "\n",
       "    .dataframe tbody tr th {\n",
       "        vertical-align: top;\n",
       "    }\n",
       "\n",
       "    .dataframe thead th {\n",
       "        text-align: right;\n",
       "    }\n",
       "</style>\n",
       "<table border=\"1\" class=\"dataframe\">\n",
       "  <thead>\n",
       "    <tr style=\"text-align: right;\">\n",
       "      <th></th>\n",
       "      <th>Branch</th>\n",
       "      <th>Names</th>\n",
       "      <th>Code</th>\n",
       "      <th>Department</th>\n",
       "      <th>Hod</th>\n",
       "    </tr>\n",
       "  </thead>\n",
       "  <tbody>\n",
       "    <tr>\n",
       "      <th>0</th>\n",
       "      <td>MCA</td>\n",
       "      <td>Nagendra</td>\n",
       "      <td>1F</td>\n",
       "      <td>Computer Applications</td>\n",
       "      <td>Naveen</td>\n",
       "    </tr>\n",
       "    <tr>\n",
       "      <th>1</th>\n",
       "      <td>CSE</td>\n",
       "      <td>Naveen</td>\n",
       "      <td>1A</td>\n",
       "      <td>Computer Science</td>\n",
       "      <td>Suresh</td>\n",
       "    </tr>\n",
       "    <tr>\n",
       "      <th>2</th>\n",
       "      <td>CST</td>\n",
       "      <td>Rama Mohan</td>\n",
       "      <td>1B</td>\n",
       "      <td>Computer Technology</td>\n",
       "      <td>Ramesh</td>\n",
       "    </tr>\n",
       "  </tbody>\n",
       "</table>\n",
       "</div>"
      ],
      "text/plain": [
       "  Branch       Names Code             Department     Hod\n",
       "0    MCA    Nagendra   1F  Computer Applications  Naveen\n",
       "1    CSE      Naveen   1A       Computer Science  Suresh\n",
       "2    CST  Rama Mohan   1B    Computer Technology  Ramesh"
      ]
     },
     "execution_count": 56,
     "metadata": {},
     "output_type": "execute_result"
    }
   ],
   "source": [
    "pd.merge(df1, df2)"
   ]
  },
  {
   "cell_type": "code",
   "execution_count": 57,
   "id": "e0419b84",
   "metadata": {},
   "outputs": [
    {
     "data": {
      "text/html": [
       "<div>\n",
       "<style scoped>\n",
       "    .dataframe tbody tr th:only-of-type {\n",
       "        vertical-align: middle;\n",
       "    }\n",
       "\n",
       "    .dataframe tbody tr th {\n",
       "        vertical-align: top;\n",
       "    }\n",
       "\n",
       "    .dataframe thead th {\n",
       "        text-align: right;\n",
       "    }\n",
       "</style>\n",
       "<table border=\"1\" class=\"dataframe\">\n",
       "  <thead>\n",
       "    <tr style=\"text-align: right;\">\n",
       "      <th></th>\n",
       "      <th>Branch</th>\n",
       "      <th>Names</th>\n",
       "      <th>Code</th>\n",
       "      <th>Department</th>\n",
       "      <th>Hod</th>\n",
       "    </tr>\n",
       "  </thead>\n",
       "  <tbody>\n",
       "    <tr>\n",
       "      <th>0</th>\n",
       "      <td>MCA</td>\n",
       "      <td>Nagendra</td>\n",
       "      <td>1F</td>\n",
       "      <td>Computer Applications</td>\n",
       "      <td>Naveen</td>\n",
       "    </tr>\n",
       "    <tr>\n",
       "      <th>1</th>\n",
       "      <td>CSE</td>\n",
       "      <td>Naveen</td>\n",
       "      <td>1A</td>\n",
       "      <td>Computer Science</td>\n",
       "      <td>Suresh</td>\n",
       "    </tr>\n",
       "    <tr>\n",
       "      <th>2</th>\n",
       "      <td>CST</td>\n",
       "      <td>Rama Mohan</td>\n",
       "      <td>1B</td>\n",
       "      <td>Computer Technology</td>\n",
       "      <td>Ramesh</td>\n",
       "    </tr>\n",
       "  </tbody>\n",
       "</table>\n",
       "</div>"
      ],
      "text/plain": [
       "  Branch       Names Code             Department     Hod\n",
       "0    MCA    Nagendra   1F  Computer Applications  Naveen\n",
       "1    CSE      Naveen   1A       Computer Science  Suresh\n",
       "2    CST  Rama Mohan   1B    Computer Technology  Ramesh"
      ]
     },
     "execution_count": 57,
     "metadata": {},
     "output_type": "execute_result"
    }
   ],
   "source": [
    "pd.merge(df1, df2, on='Code')"
   ]
  },
  {
   "cell_type": "code",
   "execution_count": 58,
   "id": "4358f731",
   "metadata": {
    "scrolled": true
   },
   "outputs": [
    {
     "data": {
      "text/html": [
       "<div>\n",
       "<style scoped>\n",
       "    .dataframe tbody tr th:only-of-type {\n",
       "        vertical-align: middle;\n",
       "    }\n",
       "\n",
       "    .dataframe tbody tr th {\n",
       "        vertical-align: top;\n",
       "    }\n",
       "\n",
       "    .dataframe thead th {\n",
       "        text-align: right;\n",
       "    }\n",
       "</style>\n",
       "<table border=\"1\" class=\"dataframe\">\n",
       "  <thead>\n",
       "    <tr style=\"text-align: right;\">\n",
       "      <th></th>\n",
       "      <th>Branch</th>\n",
       "      <th>Names</th>\n",
       "      <th>Code</th>\n",
       "      <th>Department</th>\n",
       "      <th>Hod</th>\n",
       "    </tr>\n",
       "  </thead>\n",
       "  <tbody>\n",
       "    <tr>\n",
       "      <th>0</th>\n",
       "      <td>CSE</td>\n",
       "      <td>Naveen</td>\n",
       "      <td>1A</td>\n",
       "      <td>Computer Science</td>\n",
       "      <td>Suresh</td>\n",
       "    </tr>\n",
       "    <tr>\n",
       "      <th>1</th>\n",
       "      <td>CST</td>\n",
       "      <td>Rama Mohan</td>\n",
       "      <td>1B</td>\n",
       "      <td>Computer Technology</td>\n",
       "      <td>Ramesh</td>\n",
       "    </tr>\n",
       "    <tr>\n",
       "      <th>2</th>\n",
       "      <td>MBA</td>\n",
       "      <td>Nanda</td>\n",
       "      <td>1E</td>\n",
       "      <td>NaN</td>\n",
       "      <td>NaN</td>\n",
       "    </tr>\n",
       "    <tr>\n",
       "      <th>3</th>\n",
       "      <td>MCA</td>\n",
       "      <td>Nagendra</td>\n",
       "      <td>1F</td>\n",
       "      <td>Computer Applications</td>\n",
       "      <td>Naveen</td>\n",
       "    </tr>\n",
       "  </tbody>\n",
       "</table>\n",
       "</div>"
      ],
      "text/plain": [
       "  Branch       Names Code             Department     Hod\n",
       "0    CSE      Naveen   1A       Computer Science  Suresh\n",
       "1    CST  Rama Mohan   1B    Computer Technology  Ramesh\n",
       "2    MBA       Nanda   1E                    NaN     NaN\n",
       "3    MCA    Nagendra   1F  Computer Applications  Naveen"
      ]
     },
     "execution_count": 58,
     "metadata": {},
     "output_type": "execute_result"
    }
   ],
   "source": [
    "pd.merge(left=df1, right=df2, on='Code', how='outer')"
   ]
  },
  {
   "cell_type": "code",
   "execution_count": 59,
   "id": "0c5710f3",
   "metadata": {},
   "outputs": [
    {
     "data": {
      "text/html": [
       "<div>\n",
       "<style scoped>\n",
       "    .dataframe tbody tr th:only-of-type {\n",
       "        vertical-align: middle;\n",
       "    }\n",
       "\n",
       "    .dataframe tbody tr th {\n",
       "        vertical-align: top;\n",
       "    }\n",
       "\n",
       "    .dataframe thead th {\n",
       "        text-align: right;\n",
       "    }\n",
       "</style>\n",
       "<table border=\"1\" class=\"dataframe\">\n",
       "  <thead>\n",
       "    <tr style=\"text-align: right;\">\n",
       "      <th></th>\n",
       "      <th>Branch</th>\n",
       "      <th>Names</th>\n",
       "      <th>Code</th>\n",
       "      <th>Department</th>\n",
       "      <th>Hod</th>\n",
       "    </tr>\n",
       "  </thead>\n",
       "  <tbody>\n",
       "    <tr>\n",
       "      <th>96</th>\n",
       "      <td>MCA</td>\n",
       "      <td>Nagendra</td>\n",
       "      <td>1F</td>\n",
       "      <td>Computer Applications</td>\n",
       "      <td>Naveen</td>\n",
       "    </tr>\n",
       "    <tr>\n",
       "      <th>A6</th>\n",
       "      <td>CSE</td>\n",
       "      <td>Naveen</td>\n",
       "      <td>1A</td>\n",
       "      <td>Computer Science</td>\n",
       "      <td>Suresh</td>\n",
       "    </tr>\n",
       "    <tr>\n",
       "      <th>C8</th>\n",
       "      <td>CST</td>\n",
       "      <td>Rama Mohan</td>\n",
       "      <td>1B</td>\n",
       "      <td>Computer Technology</td>\n",
       "      <td>Ramesh</td>\n",
       "    </tr>\n",
       "  </tbody>\n",
       "</table>\n",
       "</div>"
      ],
      "text/plain": [
       "   Branch       Names Code             Department     Hod\n",
       "96    MCA    Nagendra   1F  Computer Applications  Naveen\n",
       "A6    CSE      Naveen   1A       Computer Science  Suresh\n",
       "C8    CST  Rama Mohan   1B    Computer Technology  Ramesh"
      ]
     },
     "execution_count": 59,
     "metadata": {},
     "output_type": "execute_result"
    }
   ],
   "source": [
    "pd.merge(df1, df3, left_on='Code', right_index=True, how='right')"
   ]
  }
 ],
 "metadata": {
  "kernelspec": {
   "display_name": "Python 3 (ipykernel)",
   "language": "python",
   "name": "python3"
  },
  "language_info": {
   "codemirror_mode": {
    "name": "ipython",
    "version": 3
   },
   "file_extension": ".py",
   "mimetype": "text/x-python",
   "name": "python",
   "nbconvert_exporter": "python",
   "pygments_lexer": "ipython3",
   "version": "3.11.4"
  }
 },
 "nbformat": 4,
 "nbformat_minor": 5
}
