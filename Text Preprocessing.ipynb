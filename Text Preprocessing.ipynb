{
 "cells": [
  {
   "cell_type": "markdown",
   "metadata": {},
   "source": [
    "# Natural Language Processing"
   ]
  },
  {
   "cell_type": "markdown",
   "metadata": {},
   "source": [
    "# Loading Dataset"
   ]
  },
  {
   "cell_type": "code",
   "execution_count": 1,
   "metadata": {},
   "outputs": [],
   "source": [
    "import numpy as np\n",
    "import pandas as pd\n",
    "import nltk"
   ]
  },
  {
   "cell_type": "code",
   "execution_count": 2,
   "metadata": {},
   "outputs": [
    {
     "data": {
      "text/html": [
       "<div>\n",
       "<style scoped>\n",
       "    .dataframe tbody tr th:only-of-type {\n",
       "        vertical-align: middle;\n",
       "    }\n",
       "\n",
       "    .dataframe tbody tr th {\n",
       "        vertical-align: top;\n",
       "    }\n",
       "\n",
       "    .dataframe thead th {\n",
       "        text-align: right;\n",
       "    }\n",
       "</style>\n",
       "<table border=\"1\" class=\"dataframe\">\n",
       "  <thead>\n",
       "    <tr style=\"text-align: right;\">\n",
       "      <th></th>\n",
       "      <th>id</th>\n",
       "      <th>keyword</th>\n",
       "      <th>location</th>\n",
       "      <th>text</th>\n",
       "      <th>target</th>\n",
       "    </tr>\n",
       "  </thead>\n",
       "  <tbody>\n",
       "    <tr>\n",
       "      <th>0</th>\n",
       "      <td>0</td>\n",
       "      <td>ablaze</td>\n",
       "      <td>NaN</td>\n",
       "      <td>Communal violence in Bhainsa, Telangana. \"Ston...</td>\n",
       "      <td>1</td>\n",
       "    </tr>\n",
       "    <tr>\n",
       "      <th>1</th>\n",
       "      <td>1</td>\n",
       "      <td>ablaze</td>\n",
       "      <td>NaN</td>\n",
       "      <td>Telangana: Section 144 has been imposed in Bha...</td>\n",
       "      <td>1</td>\n",
       "    </tr>\n",
       "    <tr>\n",
       "      <th>2</th>\n",
       "      <td>2</td>\n",
       "      <td>ablaze</td>\n",
       "      <td>New York City</td>\n",
       "      <td>Arsonist sets cars ablaze at dealership https:...</td>\n",
       "      <td>1</td>\n",
       "    </tr>\n",
       "    <tr>\n",
       "      <th>3</th>\n",
       "      <td>3</td>\n",
       "      <td>ablaze</td>\n",
       "      <td>Morgantown, WV</td>\n",
       "      <td>Arsonist sets cars ablaze at dealership https:...</td>\n",
       "      <td>1</td>\n",
       "    </tr>\n",
       "    <tr>\n",
       "      <th>4</th>\n",
       "      <td>4</td>\n",
       "      <td>ablaze</td>\n",
       "      <td>NaN</td>\n",
       "      <td>\"Lord Jesus, your love brings freedom and pard...</td>\n",
       "      <td>0</td>\n",
       "    </tr>\n",
       "  </tbody>\n",
       "</table>\n",
       "</div>"
      ],
      "text/plain": [
       "   id keyword        location  \\\n",
       "0   0  ablaze             NaN   \n",
       "1   1  ablaze             NaN   \n",
       "2   2  ablaze   New York City   \n",
       "3   3  ablaze  Morgantown, WV   \n",
       "4   4  ablaze             NaN   \n",
       "\n",
       "                                                text  target  \n",
       "0  Communal violence in Bhainsa, Telangana. \"Ston...       1  \n",
       "1  Telangana: Section 144 has been imposed in Bha...       1  \n",
       "2  Arsonist sets cars ablaze at dealership https:...       1  \n",
       "3  Arsonist sets cars ablaze at dealership https:...       1  \n",
       "4  \"Lord Jesus, your love brings freedom and pard...       0  "
      ]
     },
     "execution_count": 2,
     "metadata": {},
     "output_type": "execute_result"
    }
   ],
   "source": [
    "df = pd.read_csv('tweets.csv')\n",
    "df.head()"
   ]
  },
  {
   "cell_type": "code",
   "execution_count": 3,
   "metadata": {},
   "outputs": [],
   "source": [
    "df = df.drop(['id', 'keyword', 'location'], axis=1)"
   ]
  },
  {
   "cell_type": "code",
   "execution_count": 4,
   "metadata": {},
   "outputs": [
    {
     "data": {
      "text/plain": [
       "target\n",
       "0    9256\n",
       "1    2114\n",
       "Name: count, dtype: int64"
      ]
     },
     "execution_count": 4,
     "metadata": {},
     "output_type": "execute_result"
    }
   ],
   "source": [
    "# Getting Value Counts\n",
    "\n",
    "df['target'].value_counts()"
   ]
  },
  {
   "cell_type": "code",
   "execution_count": 5,
   "metadata": {},
   "outputs": [
    {
     "data": {
      "text/html": [
       "<div>\n",
       "<style scoped>\n",
       "    .dataframe tbody tr th:only-of-type {\n",
       "        vertical-align: middle;\n",
       "    }\n",
       "\n",
       "    .dataframe tbody tr th {\n",
       "        vertical-align: top;\n",
       "    }\n",
       "\n",
       "    .dataframe thead th {\n",
       "        text-align: right;\n",
       "    }\n",
       "</style>\n",
       "<table border=\"1\" class=\"dataframe\">\n",
       "  <thead>\n",
       "    <tr style=\"text-align: right;\">\n",
       "      <th></th>\n",
       "      <th>text</th>\n",
       "      <th>target</th>\n",
       "    </tr>\n",
       "  </thead>\n",
       "  <tbody>\n",
       "    <tr>\n",
       "      <th>0</th>\n",
       "      <td>Communal violence in Bhainsa, Telangana. \"Stones were pelted on Muslims' houses and some houses and vehicles were set ablaze…</td>\n",
       "      <td>1</td>\n",
       "    </tr>\n",
       "    <tr>\n",
       "      <th>1</th>\n",
       "      <td>Telangana: Section 144 has been imposed in Bhainsa from January 13 to 15, after clash erupted between two groups on January 12. Po…</td>\n",
       "      <td>1</td>\n",
       "    </tr>\n",
       "    <tr>\n",
       "      <th>2</th>\n",
       "      <td>Arsonist sets cars ablaze at dealership https://t.co/gOQvyJbpVI</td>\n",
       "      <td>1</td>\n",
       "    </tr>\n",
       "    <tr>\n",
       "      <th>3</th>\n",
       "      <td>Arsonist sets cars ablaze at dealership https://t.co/0gL7NUCPlb https://t.co/u1CcBhOWh9</td>\n",
       "      <td>1</td>\n",
       "    </tr>\n",
       "    <tr>\n",
       "      <th>4</th>\n",
       "      <td>\"Lord Jesus, your love brings freedom and pardon. Fill me with your Holy Spirit and set my heart ablaze with your l… https://t.co/VlTznnPNi8</td>\n",
       "      <td>0</td>\n",
       "    </tr>\n",
       "  </tbody>\n",
       "</table>\n",
       "</div>"
      ],
      "text/plain": [
       "                                                                                                                                           text  \\\n",
       "0  Communal violence in Bhainsa, Telangana. \"Stones were pelted on Muslims' houses and some houses and vehicles were set ablaze…                  \n",
       "1  Telangana: Section 144 has been imposed in Bhainsa from January 13 to 15, after clash erupted between two groups on January 12. Po…            \n",
       "2  Arsonist sets cars ablaze at dealership https://t.co/gOQvyJbpVI                                                                                \n",
       "3  Arsonist sets cars ablaze at dealership https://t.co/0gL7NUCPlb https://t.co/u1CcBhOWh9                                                        \n",
       "4  \"Lord Jesus, your love brings freedom and pardon. Fill me with your Holy Spirit and set my heart ablaze with your l… https://t.co/VlTznnPNi8   \n",
       "\n",
       "   target  \n",
       "0  1       \n",
       "1  1       \n",
       "2  1       \n",
       "3  1       \n",
       "4  0       "
      ]
     },
     "execution_count": 5,
     "metadata": {},
     "output_type": "execute_result"
    }
   ],
   "source": [
    "pd.set_option('display.max_colwidth', 1)\n",
    "df.head()"
   ]
  },
  {
   "cell_type": "markdown",
   "metadata": {},
   "source": [
    "## Lower Casing"
   ]
  },
  {
   "cell_type": "code",
   "execution_count": 6,
   "metadata": {},
   "outputs": [],
   "source": [
    "method1 = df['text'].str.lower()\n",
    "method2 = df['text'].apply(str.lower)\n",
    "method3 = df['text'].apply(lambda x : x.lower())\n",
    "method4 = df['text'].map(str.lower)"
   ]
  },
  {
   "cell_type": "markdown",
   "metadata": {},
   "source": [
    "## Removing Punctuations"
   ]
  },
  {
   "cell_type": "code",
   "execution_count": 7,
   "metadata": {},
   "outputs": [],
   "source": [
    "# Method 1\n",
    "punc1 = df['text'].str.replace(r'[^\\w\\s]', '', regex=True)\n",
    "\n",
    "# Method 2\n",
    "import string\n",
    "translator = str.maketrans('', '', string.punctuation)\n",
    "punc2 = df['text'].apply(lambda x: x.translate(translator))\n",
    "\n",
    "# Method 3\n",
    "def remove_punctuation(text):\n",
    "    return ''.join([char for char in text if char not in string.punctuation])\n",
    "punc3 = df['text'].apply(remove_punctuation)\n",
    "\n",
    "# Method 4\n",
    "import re\n",
    "def remove_punctuation_with_re(text):\n",
    "    return re.sub(r'^[\\w\\s]','', text)\n",
    "punc4 = df['text'].apply(remove_punctuation_with_re)\n",
    "\n",
    "# Method 5\n",
    "def remove_numbers_with_filter(text):\n",
    "    return ''.join(filter(lambda x: x not in string.punctuation, text))\n",
    "punc5 = df['text'].apply(remove_numbers_with_filter)"
   ]
  },
  {
   "cell_type": "markdown",
   "metadata": {},
   "source": [
    "## Removing Numbers"
   ]
  },
  {
   "cell_type": "code",
   "execution_count": 8,
   "metadata": {},
   "outputs": [],
   "source": [
    "# Method 1\n",
    "rem_num1 = df['text'].str.replace(r'\\d+', '', regex=True)\n",
    "\n",
    "# Method 2\n",
    "def remove_numbers_with_isdigits(text):\n",
    "    return ''.join([char for char in text if not char.isdigit()])\n",
    "rem_num2 = df['text'].apply(remove_numbers_with_isdigits)\n",
    "\n",
    "# Method 3\n",
    "import string\n",
    "translation_table = str.maketrans('', '', string.digits)\n",
    "rem_num3 = df['text'].apply(lambda x: x.translate(translation_table))\n",
    "\n",
    "# Method 4\n",
    "import re\n",
    "def remove_numbers_with_re(text):\n",
    "    return re.sub(r'\\d+', '', text)\n",
    "rem_num4 = df['text'].apply(remove_numbers_with_re)\n",
    "\n",
    "# Method 5\n",
    "def remove_numbers_with_filter(text):\n",
    "    return ''.join(filter(lambda x: not x.isdigit(), text))\n",
    "rem_num5 = df['text'].apply(remove_numbers_with_filter)"
   ]
  },
  {
   "cell_type": "markdown",
   "metadata": {},
   "source": [
    "## Removal of Extra Spaces"
   ]
  },
  {
   "cell_type": "code",
   "execution_count": 9,
   "metadata": {},
   "outputs": [
    {
     "data": {
      "text/plain": [
       "0    Communal violence in Bhainsa, Telangana. \"Stones were pelted on Muslims' houses and some houses and vehicles were set ablaze…               \n",
       "1    Telangana: Section 144 has been imposed in Bhainsa from January 13 to 15, after clash erupted between two groups on January 12. Po…         \n",
       "2    Arsonist sets cars ablaze at dealership https://t.co/gOQvyJbpVI                                                                             \n",
       "3    Arsonist sets cars ablaze at dealership https://t.co/0gL7NUCPlb https://t.co/u1CcBhOWh9                                                     \n",
       "4    \"Lord Jesus, your love brings freedom and pardon. Fill me with your Holy Spirit and set my heart ablaze with your l… https://t.co/VlTznnPNi8\n",
       "Name: text, dtype: object"
      ]
     },
     "execution_count": 9,
     "metadata": {},
     "output_type": "execute_result"
    }
   ],
   "source": [
    "df['text'].head()"
   ]
  },
  {
   "cell_type": "code",
   "execution_count": 10,
   "metadata": {},
   "outputs": [],
   "source": [
    "# Method 1\n",
    "rem_space1 = df['text'].str.strip().str.replace(r'\\s+', '', regex=True)\n",
    "\n",
    "# Method 2\n",
    "def remove_extra_spaces(text):\n",
    "    return ' '.join(text.split())\n",
    "rem_space2 = df['text'].apply(remove_extra_spaces)\n",
    "\n",
    "# Method 3\n",
    "rem_space3 = df['text'].str.replace(r'\\s+', '', regex=True)\n",
    "\n",
    "# Method 4\n",
    "import re\n",
    "def remove_extra_spaces_with_re(text):\n",
    "    return re.sub(r'\\s+', ' ', text.strip())\n",
    "\n",
    "rem_space4 = df['text'].apply(remove_extra_spaces_with_re)\n",
    "\n",
    "# Method 5\n",
    "def remove_extra_spaces_filter(text):\n",
    "    return ' '.join(filter(lambda x: x.strip(), text.split()))\n",
    "rem_space5 = df['text'].apply(remove_extra_spaces_filter)"
   ]
  },
  {
   "cell_type": "markdown",
   "metadata": {},
   "source": [
    "## Replacing Repeated Punctuation"
   ]
  },
  {
   "cell_type": "code",
   "execution_count": 11,
   "metadata": {},
   "outputs": [
    {
     "data": {
      "text/plain": [
       "0    Communal violence in Bhainsa, Telangana. \"Stones were pelted on Muslims' houses and some houses and vehicles were set ablaze…               \n",
       "1    Telangana: Section 144 has been imposed in Bhainsa from January 13 to 15, after clash erupted between two groups on January 12. Po…         \n",
       "2    Arsonist sets cars ablaze at dealership https://t.co/gOQvyJbpVI                                                                             \n",
       "3    Arsonist sets cars ablaze at dealership https://t.co/0gL7NUCPlb https://t.co/u1CcBhOWh9                                                     \n",
       "4    \"Lord Jesus, your love brings freedom and pardon. Fill me with your Holy Spirit and set my heart ablaze with your l… https://t.co/VlTznnPNi8\n",
       "Name: text, dtype: object"
      ]
     },
     "execution_count": 11,
     "metadata": {},
     "output_type": "execute_result"
    }
   ],
   "source": [
    "df['text'].head()"
   ]
  },
  {
   "cell_type": "code",
   "execution_count": 12,
   "metadata": {},
   "outputs": [],
   "source": [
    "# Method 1\n",
    "punc_rep1 = df['text'].str.replace(r'([!?./\\@])\\1+', r'\\1', regex=True)\n",
    "\n",
    "# Method 2\n",
    "import re\n",
    "def replace_repeated_puncs(text):\n",
    "    return re.sub(r'([!?/\\.])\\1+', r'\\1', text)\n",
    "punc_rep2 = df['text'].apply(replace_repeated_puncs)\n",
    "\n",
    "# Method 3\n",
    "def remove_repeated_punc_lists(text):\n",
    "    result = []\n",
    "    for char in text:\n",
    "        if result and char ==  result[-1] and char in \"!?/\\.\":\n",
    "            continue\n",
    "        result.append(char)\n",
    "    return ''.join(result)\n",
    "punc_rep3 = df['text'].apply(remove_repeated_punc_lists)\n",
    "\n",
    "# Method 4\n",
    "def replace_repeated_puncs_translate(text):\n",
    "    punctuations = r'!/\\?.@'\n",
    "    for p in punctuations:\n",
    "        text = text.replace(p * 2, p)\n",
    "    return text\n",
    "punc_rep4 = df['text'].apply(replace_repeated_puncs_translate)"
   ]
  },
  {
   "cell_type": "markdown",
   "metadata": {},
   "source": [
    "## Removing Emojis"
   ]
  },
  {
   "cell_type": "code",
   "execution_count": 13,
   "metadata": {},
   "outputs": [
    {
     "data": {
      "text/html": [
       "<div>\n",
       "<style scoped>\n",
       "    .dataframe tbody tr th:only-of-type {\n",
       "        vertical-align: middle;\n",
       "    }\n",
       "\n",
       "    .dataframe tbody tr th {\n",
       "        vertical-align: top;\n",
       "    }\n",
       "\n",
       "    .dataframe thead th {\n",
       "        text-align: right;\n",
       "    }\n",
       "</style>\n",
       "<table border=\"1\" class=\"dataframe\">\n",
       "  <thead>\n",
       "    <tr style=\"text-align: right;\">\n",
       "      <th></th>\n",
       "      <th>text</th>\n",
       "      <th>target</th>\n",
       "    </tr>\n",
       "  </thead>\n",
       "  <tbody>\n",
       "    <tr>\n",
       "      <th>0</th>\n",
       "      <td>Communal violence in Bhainsa, Telangana. \"Stones were pelted on Muslims' houses and some houses and vehicles were set ablaze…</td>\n",
       "      <td>1</td>\n",
       "    </tr>\n",
       "    <tr>\n",
       "      <th>1</th>\n",
       "      <td>Telangana: Section 144 has been imposed in Bhainsa from January 13 to 15, after clash erupted between two groups on January 12. Po…</td>\n",
       "      <td>1</td>\n",
       "    </tr>\n",
       "    <tr>\n",
       "      <th>2</th>\n",
       "      <td>Arsonist sets cars ablaze at dealership https://t.co/gOQvyJbpVI</td>\n",
       "      <td>1</td>\n",
       "    </tr>\n",
       "    <tr>\n",
       "      <th>3</th>\n",
       "      <td>Arsonist sets cars ablaze at dealership https://t.co/0gL7NUCPlb https://t.co/u1CcBhOWh9</td>\n",
       "      <td>1</td>\n",
       "    </tr>\n",
       "    <tr>\n",
       "      <th>4</th>\n",
       "      <td>\"Lord Jesus, your love brings freedom and pardon. Fill me with your Holy Spirit and set my heart ablaze with your l… https://t.co/VlTznnPNi8</td>\n",
       "      <td>0</td>\n",
       "    </tr>\n",
       "    <tr>\n",
       "      <th>...</th>\n",
       "      <td>...</td>\n",
       "      <td>...</td>\n",
       "    </tr>\n",
       "    <tr>\n",
       "      <th>11365</th>\n",
       "      <td>Media should have warned us well in advance. This wrecked my whole night. I refuse to watch…</td>\n",
       "      <td>0</td>\n",
       "    </tr>\n",
       "    <tr>\n",
       "      <th>11366</th>\n",
       "      <td>i feel directly attacked 💀 i consider moonbin &amp;amp; jinjin as my bias and im currently wrecked by rocky i hate this</td>\n",
       "      <td>0</td>\n",
       "    </tr>\n",
       "    <tr>\n",
       "      <th>11367</th>\n",
       "      <td>i feel directly attacked 💀 i consider moonbin &amp;amp; jinjin as my bias and im currently wrecked by rocky i hate this https://t.co/psLBecS7hI</td>\n",
       "      <td>0</td>\n",
       "    </tr>\n",
       "    <tr>\n",
       "      <th>11368</th>\n",
       "      <td>ok who remember \"outcast\" nd the \"dora\" au?? THOSE AU WRECKED OUR NERVES ND BRAINCELLS JDKSHSSJHS LEGENDS</td>\n",
       "      <td>0</td>\n",
       "    </tr>\n",
       "    <tr>\n",
       "      <th>11369</th>\n",
       "      <td>Jake Corway wrecked while running 14th at IRP.</td>\n",
       "      <td>1</td>\n",
       "    </tr>\n",
       "  </tbody>\n",
       "</table>\n",
       "<p>11370 rows × 2 columns</p>\n",
       "</div>"
      ],
      "text/plain": [
       "                                                                                                                                               text  \\\n",
       "0      Communal violence in Bhainsa, Telangana. \"Stones were pelted on Muslims' houses and some houses and vehicles were set ablaze…                  \n",
       "1      Telangana: Section 144 has been imposed in Bhainsa from January 13 to 15, after clash erupted between two groups on January 12. Po…            \n",
       "2      Arsonist sets cars ablaze at dealership https://t.co/gOQvyJbpVI                                                                                \n",
       "3      Arsonist sets cars ablaze at dealership https://t.co/0gL7NUCPlb https://t.co/u1CcBhOWh9                                                        \n",
       "4      \"Lord Jesus, your love brings freedom and pardon. Fill me with your Holy Spirit and set my heart ablaze with your l… https://t.co/VlTznnPNi8   \n",
       "...                                                                                                                                             ...   \n",
       "11365  Media should have warned us well in advance. This wrecked my whole night. I refuse to watch…                                                   \n",
       "11366  i feel directly attacked 💀 i consider moonbin &amp; jinjin as my bias and im currently wrecked by rocky i hate this                            \n",
       "11367  i feel directly attacked 💀 i consider moonbin &amp; jinjin as my bias and im currently wrecked by rocky i hate this https://t.co/psLBecS7hI    \n",
       "11368  ok who remember \"outcast\" nd the \"dora\" au?? THOSE AU WRECKED OUR NERVES ND BRAINCELLS JDKSHSSJHS LEGENDS                                      \n",
       "11369  Jake Corway wrecked while running 14th at IRP.                                                                                                 \n",
       "\n",
       "       target  \n",
       "0      1       \n",
       "1      1       \n",
       "2      1       \n",
       "3      1       \n",
       "4      0       \n",
       "...   ..       \n",
       "11365  0       \n",
       "11366  0       \n",
       "11367  0       \n",
       "11368  0       \n",
       "11369  1       \n",
       "\n",
       "[11370 rows x 2 columns]"
      ]
     },
     "execution_count": 13,
     "metadata": {},
     "output_type": "execute_result"
    }
   ],
   "source": [
    "# Dataset containing emojis\n",
    "df_emoji = pd.DataFrame({\n",
    "    'text': [\n",
    "        \"Hello there! 😀 How are you? 🤔\",\n",
    "        \"I love programming! 💻✨\",\n",
    "        \"Let's remove emojis! 🎉🎈\",\n",
    "        \"No emojis here.\"\n",
    "    ]\n",
    "})\n",
    "df"
   ]
  },
  {
   "cell_type": "code",
   "execution_count": 18,
   "metadata": {},
   "outputs": [
    {
     "name": "stdout",
     "output_type": "stream",
     "text": [
      "Requirement already satisfied: clean-text in c:\\users\\administrator\\appdata\\local\\programs\\python\\python311\\lib\\site-packages (0.6.0)Note: you may need to restart the kernel to use updated packages.\n",
      "\n",
      "Collecting demoji\n",
      "  Downloading demoji-1.1.0-py3-none-any.whl.metadata (9.2 kB)\n",
      "Requirement already satisfied: emoji<2.0.0,>=1.0.0 in c:\\users\\administrator\\appdata\\local\\programs\\python\\python311\\lib\\site-packages (from clean-text) (1.7.0)\n",
      "Requirement already satisfied: ftfy<7.0,>=6.0 in c:\\users\\administrator\\appdata\\local\\programs\\python\\python311\\lib\\site-packages (from clean-text) (6.3.1)\n",
      "Requirement already satisfied: wcwidth in c:\\users\\administrator\\appdata\\local\\programs\\python\\python311\\lib\\site-packages (from ftfy<7.0,>=6.0->clean-text) (0.2.13)\n",
      "Downloading demoji-1.1.0-py3-none-any.whl (42 kB)\n",
      "Installing collected packages: demoji\n",
      "Successfully installed demoji-1.1.0\n"
     ]
    }
   ],
   "source": [
    "# pip install clean-text\n",
    "%pip install clean-text demoji"
   ]
  },
  {
   "cell_type": "code",
   "execution_count": 22,
   "metadata": {},
   "outputs": [
    {
     "name": "stderr",
     "output_type": "stream",
     "text": [
      "C:\\Users\\Administrator\\AppData\\Local\\Temp\\ipykernel_13128\\3542873098.py:20: FutureWarning: The demoji.download_codes attribute is deprecated and will be removed from demoji in a future version. It is an unused attribute as emoji codes are now distributed directly with the demoji package.\n",
      "  demoji.download_codes()\n"
     ]
    }
   ],
   "source": [
    "# Method 1\n",
    "from cleantext import clean\n",
    "emoji_rem1 = df_emoji['text'].apply(lambda x: clean(x, no_emoji=True))\n",
    "\n",
    "# Method 2\n",
    "def remove_emojis(text):\n",
    "    emoji_pattern = re.compile(\"[\\U0001F600-\\U0001F64F\"  # emoticons\n",
    "                                 \"\\U0001F300-\\U0001F5FF\"  # symbols & pictographs\n",
    "                                 \"\\U0001F680-\\U0001F6FF\"  # transport & map symbols\n",
    "                                 \"\\U0001F700-\\U0001F77F\"  # alchemical symbols\n",
    "                                 \"\\U0001F900-\\U0001F9FF\"  # supplemental symbols and pictographs\n",
    "                                 \"\\U00002702-\\U000027B0\"  # dingbats\n",
    "                                 \"\\U000024C2-\\U0001F251\"  # enclosed characters\n",
    "                                 \"]+\", flags=re.UNICODE)\n",
    "    return emoji_pattern.sub(r'', text)\n",
    "emoji_rem2 = df_emoji['text'].apply(remove_emojis)\n",
    "\n",
    "# Method 3\n",
    "import demoji\n",
    "demoji.download_codes()\n",
    "emoji_rem3 = df_emoji['text'].apply(lambda x: demoji.replace(x, \"\"))\n",
    "\n",
    "# Method 4\n",
    "emoji_rem4 = df_emoji['text'].apply(lambda x: x.encode('ascii', 'ignore').decode('ascii'))"
   ]
  },
  {
   "cell_type": "markdown",
   "metadata": {},
   "source": [
    "## Removing Emoticons"
   ]
  },
  {
   "cell_type": "code",
   "execution_count": 31,
   "metadata": {},
   "outputs": [
    {
     "data": {
      "text/html": [
       "<div>\n",
       "<style scoped>\n",
       "    .dataframe tbody tr th:only-of-type {\n",
       "        vertical-align: middle;\n",
       "    }\n",
       "\n",
       "    .dataframe tbody tr th {\n",
       "        vertical-align: top;\n",
       "    }\n",
       "\n",
       "    .dataframe thead th {\n",
       "        text-align: right;\n",
       "    }\n",
       "</style>\n",
       "<table border=\"1\" class=\"dataframe\">\n",
       "  <thead>\n",
       "    <tr style=\"text-align: right;\">\n",
       "      <th></th>\n",
       "      <th>text</th>\n",
       "    </tr>\n",
       "  </thead>\n",
       "  <tbody>\n",
       "    <tr>\n",
       "      <th>0</th>\n",
       "      <td>Hello there! :) How are you? :D</td>\n",
       "    </tr>\n",
       "    <tr>\n",
       "      <th>1</th>\n",
       "      <td>I love programming! &lt;3</td>\n",
       "    </tr>\n",
       "    <tr>\n",
       "      <th>2</th>\n",
       "      <td>Let's remove emoticons! :P :o</td>\n",
       "    </tr>\n",
       "    <tr>\n",
       "      <th>3</th>\n",
       "      <td>No emoticons here.</td>\n",
       "    </tr>\n",
       "  </tbody>\n",
       "</table>\n",
       "</div>"
      ],
      "text/plain": [
       "                              text\n",
       "0  Hello there! :) How are you? :D\n",
       "1  I love programming! <3         \n",
       "2  Let's remove emoticons! :P :o  \n",
       "3  No emoticons here.             "
      ]
     },
     "execution_count": 31,
     "metadata": {},
     "output_type": "execute_result"
    }
   ],
   "source": [
    "# Dataset for Emoticons\n",
    "df_emoticons = pd.DataFrame({\n",
    "    'text': [\n",
    "        \"Hello there! :) How are you? :D\",\n",
    "        \"I love programming! <3\",\n",
    "        \"Let's remove emoticons! :P :o\",\n",
    "        \"No emoticons here.\"\n",
    "    ]\n",
    "})\n",
    "df_emoticons.head()"
   ]
  },
  {
   "cell_type": "code",
   "execution_count": 41,
   "metadata": {},
   "outputs": [],
   "source": [
    "# Method 1\n",
    "def remove_emoticons(text):\n",
    "    emoticon_pattern = re.compile(r'[:;=][)DdpP\\(\\[<3]')\n",
    "    return emoticon_pattern.sub('', text)\n",
    "emoticon_rem1 = df_emoticons['text'].apply(remove_emoticons)\n",
    "\n",
    "# Method 2\n",
    "emoticon_rem2 = df_emoticons['text'].str.replace(r'[:;=][)DdoOpP\\(\\[<]', '', regex=True)\n",
    "\n",
    "# Method 3\n",
    "emoticons = [':)', ':(', ':D', ':P', '<3', ':o']\n",
    "\n",
    "def remove_custom_emoticons(text):\n",
    "    for emoticon in emoticons:\n",
    "        text = text.replace(emoticon, '')\n",
    "    return text\n",
    "emoticon_rem3 = df_emoticons['text'].apply(remove_custom_emoticons)"
   ]
  },
  {
   "cell_type": "markdown",
   "metadata": {},
   "source": [
    "## Handling Contractions"
   ]
  },
  {
   "cell_type": "code",
   "execution_count": 42,
   "metadata": {},
   "outputs": [
    {
     "name": "stdout",
     "output_type": "stream",
     "text": [
      "Requirement already satisfied: contractions in c:\\users\\administrator\\appdata\\local\\programs\\python\\python311\\lib\\site-packages (0.1.73)Note: you may need to restart the kernel to use updated packages.\n",
      "\n",
      "Requirement already satisfied: textsearch>=0.0.21 in c:\\users\\administrator\\appdata\\local\\programs\\python\\python311\\lib\\site-packages (from contractions) (0.0.24)\n",
      "Requirement already satisfied: anyascii in c:\\users\\administrator\\appdata\\local\\programs\\python\\python311\\lib\\site-packages (from textsearch>=0.0.21->contractions) (0.3.2)\n",
      "Requirement already satisfied: pyahocorasick in c:\\users\\administrator\\appdata\\local\\programs\\python\\python311\\lib\\site-packages (from textsearch>=0.0.21->contractions) (2.1.0)\n"
     ]
    }
   ],
   "source": [
    "%pip install contractions"
   ]
  },
  {
   "cell_type": "code",
   "execution_count": 44,
   "metadata": {},
   "outputs": [
    {
     "data": {
      "text/html": [
       "<div>\n",
       "<style scoped>\n",
       "    .dataframe tbody tr th:only-of-type {\n",
       "        vertical-align: middle;\n",
       "    }\n",
       "\n",
       "    .dataframe tbody tr th {\n",
       "        vertical-align: top;\n",
       "    }\n",
       "\n",
       "    .dataframe thead th {\n",
       "        text-align: right;\n",
       "    }\n",
       "</style>\n",
       "<table border=\"1\" class=\"dataframe\">\n",
       "  <thead>\n",
       "    <tr style=\"text-align: right;\">\n",
       "      <th></th>\n",
       "      <th>text</th>\n",
       "    </tr>\n",
       "  </thead>\n",
       "  <tbody>\n",
       "    <tr>\n",
       "      <th>0</th>\n",
       "      <td>I'll be there within 5 min.</td>\n",
       "    </tr>\n",
       "    <tr>\n",
       "      <th>1</th>\n",
       "      <td>She'd like to know how I'd done that!</td>\n",
       "    </tr>\n",
       "    <tr>\n",
       "      <th>2</th>\n",
       "      <td>It's awesome to meet new friends.</td>\n",
       "    </tr>\n",
       "    <tr>\n",
       "      <th>3</th>\n",
       "      <td>We've been waiting for this day for so long.</td>\n",
       "    </tr>\n",
       "  </tbody>\n",
       "</table>\n",
       "</div>"
      ],
      "text/plain": [
       "                                           text\n",
       "0  I'll be there within 5 min.                 \n",
       "1  She'd like to know how I'd done that!       \n",
       "2  It's awesome to meet new friends.           \n",
       "3  We've been waiting for this day for so long."
      ]
     },
     "execution_count": 44,
     "metadata": {},
     "output_type": "execute_result"
    }
   ],
   "source": [
    "# Dataset for contractions\n",
    "df_con = pd.DataFrame({\n",
    "    'text': [\n",
    "        \"I'll be there within 5 min.\",\n",
    "        \"She'd like to know how I'd done that!\",\n",
    "        \"It's awesome to meet new friends.\",\n",
    "        \"We've been waiting for this day for so long.\"\n",
    "    ]\n",
    "})\n",
    "\n",
    "df_con.head()"
   ]
  },
  {
   "cell_type": "code",
   "execution_count": 48,
   "metadata": {},
   "outputs": [],
   "source": [
    "# Method 1\n",
    "import contractions\n",
    "def expand_contractions(text):\n",
    "    return ' '.join([contractions.fix(word) for word in text.split()])\n",
    "con1 = df_con['text'].apply(expand_contractions)\n",
    "\n",
    "# Method 2\n",
    "contraction_mapping = {\n",
    "    \"I'll\": \"I will\",\n",
    "    \"She'd\": \"She would\",\n",
    "    \"It's\": \"It is\",\n",
    "    \"We've\": \"We have\",\n",
    "    \"I'd\": \"I would\",\n",
    "    \"don't\": \"do not\",\n",
    "    \"can't\": \"cannot\"\n",
    "}\n",
    "def expand_contractions_regex(text):\n",
    "    pattern = re.compile(r'\\b(' + '|'.join(contraction_mapping.keys()) + r')\\b')\n",
    "    return pattern.sub(lambda x: contraction_mapping[x.group(0)], text)\n",
    "con2 = df_con['text'].apply(expand_contractions_regex)\n",
    "\n",
    "# Method 3\n",
    "contraction_mapping = {\n",
    "    \"I'll\": \"I will\",\n",
    "    \"She'd\": \"She would\",\n",
    "    \"It's\": \"It is\",\n",
    "    \"We've\": \"We have\",\n",
    "    \"I'd\": \"I would\",\n",
    "}\n",
    "\n",
    "# Function to expand contractions using manual mapping\n",
    "def manual_expand_contractions(text):\n",
    "    for contraction, expansion in contraction_mapping.items():\n",
    "        text = text.replace(contraction, expansion)\n",
    "    return text\n",
    "con3 = df_con['text'].apply(manual_expand_contractions)"
   ]
  },
  {
   "cell_type": "markdown",
   "metadata": {},
   "source": [
    "## Finding and Removing Html Tags"
   ]
  },
  {
   "cell_type": "code",
   "execution_count": 49,
   "metadata": {},
   "outputs": [
    {
     "data": {
      "text/html": [
       "<div>\n",
       "<style scoped>\n",
       "    .dataframe tbody tr th:only-of-type {\n",
       "        vertical-align: middle;\n",
       "    }\n",
       "\n",
       "    .dataframe tbody tr th {\n",
       "        vertical-align: top;\n",
       "    }\n",
       "\n",
       "    .dataframe thead th {\n",
       "        text-align: right;\n",
       "    }\n",
       "</style>\n",
       "<table border=\"1\" class=\"dataframe\">\n",
       "  <thead>\n",
       "    <tr style=\"text-align: right;\">\n",
       "      <th></th>\n",
       "      <th>text</th>\n",
       "    </tr>\n",
       "  </thead>\n",
       "  <tbody>\n",
       "    <tr>\n",
       "      <th>0</th>\n",
       "      <td>&lt;h1&gt;Hello World!&lt;/h1&gt;</td>\n",
       "    </tr>\n",
       "    <tr>\n",
       "      <th>1</th>\n",
       "      <td>&lt;p&gt;This is a &lt;strong&gt;test&lt;/strong&gt; string.&lt;/p&gt;</td>\n",
       "    </tr>\n",
       "    <tr>\n",
       "      <th>2</th>\n",
       "      <td>&lt;div&gt;Another &lt;em&gt;example&lt;/em&gt; with &lt;a href='#'&gt;links&lt;/a&gt;.&lt;/div&gt;</td>\n",
       "    </tr>\n",
       "    <tr>\n",
       "      <th>3</th>\n",
       "      <td>No HTML tags here.</td>\n",
       "    </tr>\n",
       "  </tbody>\n",
       "</table>\n",
       "</div>"
      ],
      "text/plain": [
       "                                                              text\n",
       "0  <h1>Hello World!</h1>                                          \n",
       "1  <p>This is a <strong>test</strong> string.</p>                 \n",
       "2  <div>Another <em>example</em> with <a href='#'>links</a>.</div>\n",
       "3  No HTML tags here.                                             "
      ]
     },
     "execution_count": 49,
     "metadata": {},
     "output_type": "execute_result"
    }
   ],
   "source": [
    "# Dataset\n",
    "df_html = pd.DataFrame({\n",
    "    'text': [\n",
    "        \"<h1>Hello World!</h1>\",\n",
    "        \"<p>This is a <strong>test</strong> string.</p>\",\n",
    "        \"<div>Another <em>example</em> with <a href='#'>links</a>.</div>\",\n",
    "        \"No HTML tags here.\"\n",
    "    ]\n",
    "})\n",
    "\n",
    "df_html.head()"
   ]
  },
  {
   "cell_type": "code",
   "execution_count": 51,
   "metadata": {},
   "outputs": [
    {
     "name": "stdout",
     "output_type": "stream",
     "text": [
      "Requirement already satisfied: beautifulsoup4 in c:\\users\\administrator\\appdata\\local\\programs\\python\\python311\\lib\\site-packages (4.12.3)\n",
      "Requirement already satisfied: soupsieve>1.2 in c:\\users\\administrator\\appdata\\local\\programs\\python\\python311\\lib\\site-packages (from beautifulsoup4) (2.6)\n",
      "Note: you may need to restart the kernel to use updated packages.\n"
     ]
    }
   ],
   "source": [
    "%pip install beautifulsoup4"
   ]
  },
  {
   "cell_type": "code",
   "execution_count": 55,
   "metadata": {},
   "outputs": [],
   "source": [
    "# Method 1\n",
    "def remove_html_tags(text):\n",
    "    return re.sub(r'<.*?>', '', text)\n",
    "html_rem1 = df_html['text'].apply(remove_html_tags)\n",
    "\n",
    "# Method 2\n",
    "from bs4 import BeautifulSoup\n",
    "def remove_html_tags_bs(text):\n",
    "    return BeautifulSoup(text, \"html.parser\").get_text()\n",
    "html_rem2 = df_html['text'].apply(remove_html_tags_bs)\n"
   ]
  },
  {
   "cell_type": "markdown",
   "metadata": {},
   "source": [
    "## Finding and Removing URL's"
   ]
  },
  {
   "cell_type": "code",
   "execution_count": null,
   "metadata": {},
   "outputs": [],
   "source": []
  },
  {
   "cell_type": "code",
   "execution_count": null,
   "metadata": {},
   "outputs": [],
   "source": []
  }
 ],
 "metadata": {
  "kernelspec": {
   "display_name": "Python 3",
   "language": "python",
   "name": "python3"
  },
  "language_info": {
   "codemirror_mode": {
    "name": "ipython",
    "version": 3
   },
   "file_extension": ".py",
   "mimetype": "text/x-python",
   "name": "python",
   "nbconvert_exporter": "python",
   "pygments_lexer": "ipython3",
   "version": "3.11.4"
  }
 },
 "nbformat": 4,
 "nbformat_minor": 2
}
