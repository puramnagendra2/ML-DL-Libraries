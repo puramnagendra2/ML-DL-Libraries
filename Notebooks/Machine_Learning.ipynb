{
 "cells": [
  {
   "cell_type": "code",
   "execution_count": 1,
   "metadata": {},
   "outputs": [],
   "source": [
    "import pandas as pd\n",
    "import numpy as np"
   ]
  },
  {
   "cell_type": "code",
   "execution_count": 2,
   "metadata": {},
   "outputs": [
    {
     "data": {
      "text/html": [
       "<div>\n",
       "<style scoped>\n",
       "    .dataframe tbody tr th:only-of-type {\n",
       "        vertical-align: middle;\n",
       "    }\n",
       "\n",
       "    .dataframe tbody tr th {\n",
       "        vertical-align: top;\n",
       "    }\n",
       "\n",
       "    .dataframe thead th {\n",
       "        text-align: right;\n",
       "    }\n",
       "</style>\n",
       "<table border=\"1\" class=\"dataframe\">\n",
       "  <thead>\n",
       "    <tr style=\"text-align: right;\">\n",
       "      <th></th>\n",
       "      <th>text</th>\n",
       "      <th>sentiment</th>\n",
       "      <th>Time of Tweet</th>\n",
       "      <th>Country</th>\n",
       "      <th>Population -2020</th>\n",
       "      <th>Density (P/Km²)</th>\n",
       "      <th>word_count</th>\n",
       "      <th>char_count</th>\n",
       "    </tr>\n",
       "  </thead>\n",
       "  <tbody>\n",
       "    <tr>\n",
       "      <th>0</th>\n",
       "      <td>I`d have responded, if I were going</td>\n",
       "      <td>neutral</td>\n",
       "      <td>morning</td>\n",
       "      <td>Afghanistan</td>\n",
       "      <td>38928346</td>\n",
       "      <td>60</td>\n",
       "      <td>7</td>\n",
       "      <td>36</td>\n",
       "    </tr>\n",
       "    <tr>\n",
       "      <th>1</th>\n",
       "      <td>Sooo SAD I will miss you here in San Diego!!!</td>\n",
       "      <td>negative</td>\n",
       "      <td>noon</td>\n",
       "      <td>Albania</td>\n",
       "      <td>2877797</td>\n",
       "      <td>105</td>\n",
       "      <td>10</td>\n",
       "      <td>46</td>\n",
       "    </tr>\n",
       "    <tr>\n",
       "      <th>2</th>\n",
       "      <td>my boss is bullying me...</td>\n",
       "      <td>negative</td>\n",
       "      <td>night</td>\n",
       "      <td>Algeria</td>\n",
       "      <td>43851044</td>\n",
       "      <td>18</td>\n",
       "      <td>5</td>\n",
       "      <td>25</td>\n",
       "    </tr>\n",
       "    <tr>\n",
       "      <th>3</th>\n",
       "      <td>what interview! leave me alone</td>\n",
       "      <td>negative</td>\n",
       "      <td>morning</td>\n",
       "      <td>Andorra</td>\n",
       "      <td>77265</td>\n",
       "      <td>164</td>\n",
       "      <td>5</td>\n",
       "      <td>31</td>\n",
       "    </tr>\n",
       "    <tr>\n",
       "      <th>4</th>\n",
       "      <td>Sons of ****, why couldn`t they put them on t...</td>\n",
       "      <td>negative</td>\n",
       "      <td>noon</td>\n",
       "      <td>Angola</td>\n",
       "      <td>32866272</td>\n",
       "      <td>26</td>\n",
       "      <td>14</td>\n",
       "      <td>75</td>\n",
       "    </tr>\n",
       "  </tbody>\n",
       "</table>\n",
       "</div>"
      ],
      "text/plain": [
       "                                                text sentiment Time of Tweet  \\\n",
       "0                I`d have responded, if I were going   neutral       morning   \n",
       "1      Sooo SAD I will miss you here in San Diego!!!  negative          noon   \n",
       "2                          my boss is bullying me...  negative         night   \n",
       "3                     what interview! leave me alone  negative       morning   \n",
       "4   Sons of ****, why couldn`t they put them on t...  negative          noon   \n",
       "\n",
       "       Country  Population -2020  Density (P/Km²)  word_count  char_count  \n",
       "0  Afghanistan          38928346               60           7          36  \n",
       "1      Albania           2877797              105          10          46  \n",
       "2      Algeria          43851044               18           5          25  \n",
       "3      Andorra             77265              164           5          31  \n",
       "4       Angola          32866272               26          14          75  "
      ]
     },
     "execution_count": 2,
     "metadata": {},
     "output_type": "execute_result"
    }
   ],
   "source": [
    "df = pd.read_csv('Datasets/processed_train.csv')\n",
    "df.drop(['Unnamed: 0'], axis=1, inplace=True)\n",
    "df.head()"
   ]
  },
  {
   "cell_type": "markdown",
   "metadata": {},
   "source": [
    "## Basic Information"
   ]
  },
  {
   "cell_type": "code",
   "execution_count": 3,
   "metadata": {},
   "outputs": [
    {
     "name": "stdout",
     "output_type": "stream",
     "text": [
      "Shape of Dataset is (27481, 8)\n"
     ]
    }
   ],
   "source": [
    "# Shape\n",
    "print(f\"Shape of Dataset is {df.shape}\")"
   ]
  },
  {
   "cell_type": "code",
   "execution_count": 4,
   "metadata": {},
   "outputs": [
    {
     "name": "stdout",
     "output_type": "stream",
     "text": [
      "Index(['text', 'sentiment', 'Time of Tweet', 'Country', 'Population -2020',\n",
      "       'Density (P/Km²)', 'word_count', 'char_count'],\n",
      "      dtype='object')\n"
     ]
    }
   ],
   "source": [
    "# Columns in Dataset\n",
    "print(df.columns)"
   ]
  },
  {
   "cell_type": "code",
   "execution_count": 5,
   "metadata": {},
   "outputs": [
    {
     "name": "stdout",
     "output_type": "stream",
     "text": [
      "<class 'pandas.core.frame.DataFrame'>\n",
      "RangeIndex: 27481 entries, 0 to 27480\n",
      "Data columns (total 8 columns):\n",
      " #   Column            Non-Null Count  Dtype \n",
      "---  ------            --------------  ----- \n",
      " 0   text              27480 non-null  object\n",
      " 1   sentiment         27481 non-null  object\n",
      " 2   Time of Tweet     27481 non-null  object\n",
      " 3   Country           27481 non-null  object\n",
      " 4   Population -2020  27481 non-null  int64 \n",
      " 5   Density (P/Km²)   27481 non-null  int64 \n",
      " 6   word_count        27481 non-null  int64 \n",
      " 7   char_count        27481 non-null  int64 \n",
      "dtypes: int64(4), object(4)\n",
      "memory usage: 1.7+ MB\n",
      "None\n"
     ]
    }
   ],
   "source": [
    "# Information\n",
    "print(df.info())"
   ]
  },
  {
   "cell_type": "code",
   "execution_count": 6,
   "metadata": {},
   "outputs": [
    {
     "data": {
      "text/html": [
       "<div>\n",
       "<style scoped>\n",
       "    .dataframe tbody tr th:only-of-type {\n",
       "        vertical-align: middle;\n",
       "    }\n",
       "\n",
       "    .dataframe tbody tr th {\n",
       "        vertical-align: top;\n",
       "    }\n",
       "\n",
       "    .dataframe thead th {\n",
       "        text-align: right;\n",
       "    }\n",
       "</style>\n",
       "<table border=\"1\" class=\"dataframe\">\n",
       "  <thead>\n",
       "    <tr style=\"text-align: right;\">\n",
       "      <th></th>\n",
       "      <th>Population -2020</th>\n",
       "      <th>Density (P/Km²)</th>\n",
       "      <th>word_count</th>\n",
       "      <th>char_count</th>\n",
       "    </tr>\n",
       "  </thead>\n",
       "  <tbody>\n",
       "    <tr>\n",
       "      <th>count</th>\n",
       "      <td>2.748100e+04</td>\n",
       "      <td>27481.000000</td>\n",
       "      <td>27481.000000</td>\n",
       "      <td>27481.000000</td>\n",
       "    </tr>\n",
       "    <tr>\n",
       "      <th>mean</th>\n",
       "      <td>4.018497e+07</td>\n",
       "      <td>357.686583</td>\n",
       "      <td>12.902442</td>\n",
       "      <td>68.352571</td>\n",
       "    </tr>\n",
       "    <tr>\n",
       "      <th>std</th>\n",
       "      <td>1.504946e+08</td>\n",
       "      <td>2013.750702</td>\n",
       "      <td>6.926185</td>\n",
       "      <td>35.625950</td>\n",
       "    </tr>\n",
       "    <tr>\n",
       "      <th>min</th>\n",
       "      <td>8.010000e+02</td>\n",
       "      <td>2.000000</td>\n",
       "      <td>1.000000</td>\n",
       "      <td>3.000000</td>\n",
       "    </tr>\n",
       "    <tr>\n",
       "      <th>25%</th>\n",
       "      <td>1.968001e+06</td>\n",
       "      <td>35.000000</td>\n",
       "      <td>7.000000</td>\n",
       "      <td>39.000000</td>\n",
       "    </tr>\n",
       "    <tr>\n",
       "      <th>50%</th>\n",
       "      <td>8.655535e+06</td>\n",
       "      <td>89.000000</td>\n",
       "      <td>12.000000</td>\n",
       "      <td>64.000000</td>\n",
       "    </tr>\n",
       "    <tr>\n",
       "      <th>75%</th>\n",
       "      <td>2.843594e+07</td>\n",
       "      <td>214.000000</td>\n",
       "      <td>18.000000</td>\n",
       "      <td>97.000000</td>\n",
       "    </tr>\n",
       "    <tr>\n",
       "      <th>max</th>\n",
       "      <td>1.439324e+09</td>\n",
       "      <td>26337.000000</td>\n",
       "      <td>33.000000</td>\n",
       "      <td>159.000000</td>\n",
       "    </tr>\n",
       "  </tbody>\n",
       "</table>\n",
       "</div>"
      ],
      "text/plain": [
       "       Population -2020  Density (P/Km²)    word_count    char_count\n",
       "count      2.748100e+04     27481.000000  27481.000000  27481.000000\n",
       "mean       4.018497e+07       357.686583     12.902442     68.352571\n",
       "std        1.504946e+08      2013.750702      6.926185     35.625950\n",
       "min        8.010000e+02         2.000000      1.000000      3.000000\n",
       "25%        1.968001e+06        35.000000      7.000000     39.000000\n",
       "50%        8.655535e+06        89.000000     12.000000     64.000000\n",
       "75%        2.843594e+07       214.000000     18.000000     97.000000\n",
       "max        1.439324e+09     26337.000000     33.000000    159.000000"
      ]
     },
     "execution_count": 6,
     "metadata": {},
     "output_type": "execute_result"
    }
   ],
   "source": [
    "# Describing Number type\n",
    "df.describe(exclude=object)"
   ]
  },
  {
   "cell_type": "code",
   "execution_count": 7,
   "metadata": {},
   "outputs": [
    {
     "data": {
      "text/html": [
       "<div>\n",
       "<style scoped>\n",
       "    .dataframe tbody tr th:only-of-type {\n",
       "        vertical-align: middle;\n",
       "    }\n",
       "\n",
       "    .dataframe tbody tr th {\n",
       "        vertical-align: top;\n",
       "    }\n",
       "\n",
       "    .dataframe thead th {\n",
       "        text-align: right;\n",
       "    }\n",
       "</style>\n",
       "<table border=\"1\" class=\"dataframe\">\n",
       "  <thead>\n",
       "    <tr style=\"text-align: right;\">\n",
       "      <th></th>\n",
       "      <th>text</th>\n",
       "      <th>sentiment</th>\n",
       "      <th>Time of Tweet</th>\n",
       "      <th>Country</th>\n",
       "    </tr>\n",
       "  </thead>\n",
       "  <tbody>\n",
       "    <tr>\n",
       "      <th>count</th>\n",
       "      <td>27480</td>\n",
       "      <td>27481</td>\n",
       "      <td>27481</td>\n",
       "      <td>27481</td>\n",
       "    </tr>\n",
       "    <tr>\n",
       "      <th>unique</th>\n",
       "      <td>27480</td>\n",
       "      <td>3</td>\n",
       "      <td>3</td>\n",
       "      <td>195</td>\n",
       "    </tr>\n",
       "    <tr>\n",
       "      <th>top</th>\n",
       "      <td>All this flirting going on - The ATG smiles...</td>\n",
       "      <td>neutral</td>\n",
       "      <td>morning</td>\n",
       "      <td>Afghanistan</td>\n",
       "    </tr>\n",
       "    <tr>\n",
       "      <th>freq</th>\n",
       "      <td>1</td>\n",
       "      <td>11118</td>\n",
       "      <td>9161</td>\n",
       "      <td>149</td>\n",
       "    </tr>\n",
       "  </tbody>\n",
       "</table>\n",
       "</div>"
      ],
      "text/plain": [
       "                                                     text sentiment  \\\n",
       "count                                               27480     27481   \n",
       "unique                                              27480         3   \n",
       "top        All this flirting going on - The ATG smiles...   neutral   \n",
       "freq                                                    1     11118   \n",
       "\n",
       "       Time of Tweet      Country  \n",
       "count          27481        27481  \n",
       "unique             3          195  \n",
       "top          morning  Afghanistan  \n",
       "freq            9161          149  "
      ]
     },
     "execution_count": 7,
     "metadata": {},
     "output_type": "execute_result"
    }
   ],
   "source": [
    "# Describing Object Type\n",
    "df.describe(include=['object', 'bool'])"
   ]
  },
  {
   "cell_type": "code",
   "execution_count": 8,
   "metadata": {},
   "outputs": [
    {
     "name": "stdout",
     "output_type": "stream",
     "text": [
      "Counts of Sentiments are \n",
      " sentiment\n",
      "neutral     11118\n",
      "positive     8582\n",
      "negative     7781\n",
      "Name: count, dtype: int64\n",
      "====================\n",
      "Fraction of Sentiments are \n",
      " sentiment\n",
      "neutral     0.404570\n",
      "positive    0.312288\n",
      "negative    0.283141\n",
      "Name: proportion, dtype: float64\n",
      "====================\n",
      "Counts of tweets based on time \n",
      " Time of Tweet\n",
      "morning    9161\n",
      "noon       9160\n",
      "night      9160\n",
      "Name: count, dtype: int64\n",
      "====================\n",
      "Counts of Tweets by country \n",
      " Country\n",
      "Afghanistan    149\n",
      "Albania        149\n",
      "Algeria        149\n",
      "Andorra        149\n",
      "Angola         149\n",
      "              ... \n",
      "Venezuela      127\n",
      "Vietnam        127\n",
      "Yemen          127\n",
      "Zambia         127\n",
      "Zimbabwe       127\n",
      "Name: count, Length: 195, dtype: int64\n"
     ]
    }
   ],
   "source": [
    "# Value counts\n",
    "print(f\"Counts of Sentiments are \\n {df['sentiment'].value_counts()}\")\n",
    "\n",
    "print(\"=\"*20)\n",
    "\n",
    "print(f\"Fraction of Sentiments are \\n {df['sentiment'].value_counts(normalize=True)}\")\n",
    "\n",
    "print(\"=\"*20)\n",
    "\n",
    "print(f\"Counts of tweets based on time \\n {df['Time of Tweet'].value_counts()}\")\n",
    "\n",
    "print(\"=\"*20)\n",
    "\n",
    "print(f\"Counts of Tweets by country \\n {df['Country'].value_counts()}\")"
   ]
  },
  {
   "cell_type": "code",
   "execution_count": 9,
   "metadata": {},
   "outputs": [
    {
     "data": {
      "text/html": [
       "<div>\n",
       "<style scoped>\n",
       "    .dataframe tbody tr th:only-of-type {\n",
       "        vertical-align: middle;\n",
       "    }\n",
       "\n",
       "    .dataframe tbody tr th {\n",
       "        vertical-align: top;\n",
       "    }\n",
       "\n",
       "    .dataframe thead th {\n",
       "        text-align: right;\n",
       "    }\n",
       "</style>\n",
       "<table border=\"1\" class=\"dataframe\">\n",
       "  <thead>\n",
       "    <tr style=\"text-align: right;\">\n",
       "      <th></th>\n",
       "      <th>text</th>\n",
       "      <th>sentiment</th>\n",
       "      <th>Time of Tweet</th>\n",
       "      <th>Country</th>\n",
       "      <th>Population -2020</th>\n",
       "      <th>Density (P/Km²)</th>\n",
       "      <th>word_count</th>\n",
       "      <th>char_count</th>\n",
       "    </tr>\n",
       "  </thead>\n",
       "  <tbody>\n",
       "    <tr>\n",
       "      <th>68</th>\n",
       "      <td>Chilliin</td>\n",
       "      <td>positive</td>\n",
       "      <td>night</td>\n",
       "      <td>Guatemala</td>\n",
       "      <td>17915568</td>\n",
       "      <td>167</td>\n",
       "      <td>1</td>\n",
       "      <td>8</td>\n",
       "    </tr>\n",
       "    <tr>\n",
       "      <th>42</th>\n",
       "      <td>MAYDAY?!</td>\n",
       "      <td>neutral</td>\n",
       "      <td>morning</td>\n",
       "      <td>Cuba</td>\n",
       "      <td>11326616</td>\n",
       "      <td>106</td>\n",
       "      <td>1</td>\n",
       "      <td>8</td>\n",
       "    </tr>\n",
       "    <tr>\n",
       "      <th>10363</th>\n",
       "      <td>thanks</td>\n",
       "      <td>positive</td>\n",
       "      <td>noon</td>\n",
       "      <td>Nepal</td>\n",
       "      <td>29136808</td>\n",
       "      <td>203</td>\n",
       "      <td>1</td>\n",
       "      <td>8</td>\n",
       "    </tr>\n",
       "    <tr>\n",
       "      <th>24069</th>\n",
       "      <td>G`night!</td>\n",
       "      <td>neutral</td>\n",
       "      <td>morning</td>\n",
       "      <td>Singapore</td>\n",
       "      <td>5850342</td>\n",
       "      <td>8358</td>\n",
       "      <td>1</td>\n",
       "      <td>11</td>\n",
       "    </tr>\n",
       "    <tr>\n",
       "      <th>11658</th>\n",
       "      <td>Goodnight!!!!!!</td>\n",
       "      <td>positive</td>\n",
       "      <td>morning</td>\n",
       "      <td>Nauru</td>\n",
       "      <td>10824</td>\n",
       "      <td>541</td>\n",
       "      <td>1</td>\n",
       "      <td>16</td>\n",
       "    </tr>\n",
       "  </tbody>\n",
       "</table>\n",
       "</div>"
      ],
      "text/plain": [
       "                   text sentiment Time of Tweet    Country  Population -2020  \\\n",
       "68             Chilliin  positive         night  Guatemala          17915568   \n",
       "42             MAYDAY?!   neutral       morning       Cuba          11326616   \n",
       "10363            thanks  positive          noon      Nepal          29136808   \n",
       "24069          G`night!   neutral       morning  Singapore           5850342   \n",
       "11658   Goodnight!!!!!!  positive       morning      Nauru             10824   \n",
       "\n",
       "       Density (P/Km²)  word_count  char_count  \n",
       "68                 167           1           8  \n",
       "42                 106           1           8  \n",
       "10363              203           1           8  \n",
       "24069             8358           1          11  \n",
       "11658              541           1          16  "
      ]
     },
     "execution_count": 9,
     "metadata": {},
     "output_type": "execute_result"
    }
   ],
   "source": [
    "# Sorting by columns (can sort using multiple columns)\n",
    "df.sort_values(by=['word_count'], ascending=True).head()"
   ]
  },
  {
   "cell_type": "code",
   "execution_count": 10,
   "metadata": {},
   "outputs": [
    {
     "name": "stdout",
     "output_type": "stream",
     "text": [
      "Mean of Word_count columns is 12.902441686983734\n",
      "Median of Word_count columns is 12.0\n",
      "The most frequent sentiment is 0    neutral\n",
      "Name: sentiment, dtype: object\n"
     ]
    }
   ],
   "source": [
    "# Mean of Word Count\n",
    "print(f\"Mean of Word_count columns is {df['word_count'].mean()}\")\n",
    "\n",
    "# Mean of Word Count\n",
    "print(f\"Median of Word_count columns is {df['word_count'].median()}\")\n",
    "\n",
    "# Most Frequent Value in Sentiment\n",
    "print(f\"The most frequent sentiment is {df['sentiment'].mode()}\")"
   ]
  },
  {
   "cell_type": "code",
   "execution_count": 11,
   "metadata": {},
   "outputs": [
    {
     "name": "stdout",
     "output_type": "stream",
     "text": [
      "Length is 3763\n"
     ]
    }
   ],
   "source": [
    "# Neutral tweets posted in the morning\n",
    "print(f\"Length is {len(df[(df['sentiment'] == 'neutral') & (df['Time of Tweet'] == 'morning')])}\")"
   ]
  },
  {
   "cell_type": "code",
   "execution_count": 12,
   "metadata": {},
   "outputs": [
    {
     "data": {
      "text/html": [
       "<div>\n",
       "<style scoped>\n",
       "    .dataframe tbody tr th:only-of-type {\n",
       "        vertical-align: middle;\n",
       "    }\n",
       "\n",
       "    .dataframe tbody tr th {\n",
       "        vertical-align: top;\n",
       "    }\n",
       "\n",
       "    .dataframe thead th {\n",
       "        text-align: right;\n",
       "    }\n",
       "</style>\n",
       "<table border=\"1\" class=\"dataframe\">\n",
       "  <thead>\n",
       "    <tr style=\"text-align: right;\">\n",
       "      <th></th>\n",
       "      <th>Country</th>\n",
       "      <th>country_char_count</th>\n",
       "    </tr>\n",
       "  </thead>\n",
       "  <tbody>\n",
       "    <tr>\n",
       "      <th>0</th>\n",
       "      <td>Afghanistan</td>\n",
       "      <td>11</td>\n",
       "    </tr>\n",
       "    <tr>\n",
       "      <th>1</th>\n",
       "      <td>Albania</td>\n",
       "      <td>7</td>\n",
       "    </tr>\n",
       "    <tr>\n",
       "      <th>2</th>\n",
       "      <td>Algeria</td>\n",
       "      <td>7</td>\n",
       "    </tr>\n",
       "    <tr>\n",
       "      <th>3</th>\n",
       "      <td>Andorra</td>\n",
       "      <td>7</td>\n",
       "    </tr>\n",
       "    <tr>\n",
       "      <th>4</th>\n",
       "      <td>Angola</td>\n",
       "      <td>6</td>\n",
       "    </tr>\n",
       "  </tbody>\n",
       "</table>\n",
       "</div>"
      ],
      "text/plain": [
       "       Country  country_char_count\n",
       "0  Afghanistan                  11\n",
       "1      Albania                   7\n",
       "2      Algeria                   7\n",
       "3      Andorra                   7\n",
       "4       Angola                   6"
      ]
     },
     "execution_count": 12,
     "metadata": {},
     "output_type": "execute_result"
    }
   ],
   "source": [
    "# Applying function to a column\n",
    "def country_char_count(text):\n",
    "    c = 0\n",
    "    for i in text:\n",
    "        c += 1\n",
    "    return c\n",
    "\n",
    "df['country_char_count'] = df['Country'].apply(country_char_count)\n",
    "df[['Country', 'country_char_count']].head()"
   ]
  },
  {
   "cell_type": "code",
   "execution_count": 13,
   "metadata": {},
   "outputs": [
    {
     "data": {
      "text/html": [
       "<div>\n",
       "<style scoped>\n",
       "    .dataframe tbody tr th:only-of-type {\n",
       "        vertical-align: middle;\n",
       "    }\n",
       "\n",
       "    .dataframe tbody tr th {\n",
       "        vertical-align: top;\n",
       "    }\n",
       "\n",
       "    .dataframe thead th {\n",
       "        text-align: right;\n",
       "    }\n",
       "</style>\n",
       "<table border=\"1\" class=\"dataframe\">\n",
       "  <thead>\n",
       "    <tr style=\"text-align: right;\">\n",
       "      <th></th>\n",
       "      <th>text</th>\n",
       "      <th>sentiment</th>\n",
       "      <th>Time of Tweet</th>\n",
       "      <th>Country</th>\n",
       "      <th>Population -2020</th>\n",
       "      <th>Density (P/Km²)</th>\n",
       "      <th>word_count</th>\n",
       "      <th>char_count</th>\n",
       "      <th>country_char_count</th>\n",
       "    </tr>\n",
       "  </thead>\n",
       "  <tbody>\n",
       "    <tr>\n",
       "      <th>76</th>\n",
       "      <td>WOW, i AM REALLY MiSSiN THE FAM(iLY) TODAY. BA...</td>\n",
       "      <td>negative</td>\n",
       "      <td>noon</td>\n",
       "      <td>Iceland</td>\n",
       "      <td>341243</td>\n",
       "      <td>3</td>\n",
       "      <td>9</td>\n",
       "      <td>50</td>\n",
       "      <td>7</td>\n",
       "    </tr>\n",
       "    <tr>\n",
       "      <th>77</th>\n",
       "      <td>My sources say no</td>\n",
       "      <td>neutral</td>\n",
       "      <td>night</td>\n",
       "      <td>India</td>\n",
       "      <td>1380004385</td>\n",
       "      <td>464</td>\n",
       "      <td>4</td>\n",
       "      <td>18</td>\n",
       "      <td>5</td>\n",
       "    </tr>\n",
       "    <tr>\n",
       "      <th>78</th>\n",
       "      <td>I am sooo tired</td>\n",
       "      <td>negative</td>\n",
       "      <td>morning</td>\n",
       "      <td>Indonesia</td>\n",
       "      <td>273523615</td>\n",
       "      <td>151</td>\n",
       "      <td>4</td>\n",
       "      <td>15</td>\n",
       "      <td>9</td>\n",
       "    </tr>\n",
       "    <tr>\n",
       "      <th>79</th>\n",
       "      <td>Hey, you change your twitter account, and you...</td>\n",
       "      <td>neutral</td>\n",
       "      <td>noon</td>\n",
       "      <td>Iran</td>\n",
       "      <td>83992949</td>\n",
       "      <td>52</td>\n",
       "      <td>12</td>\n",
       "      <td>69</td>\n",
       "      <td>4</td>\n",
       "    </tr>\n",
       "    <tr>\n",
       "      <th>80</th>\n",
       "      <td>THANK YYYYYYYYYOOOOOOOOOOUUUUU!</td>\n",
       "      <td>positive</td>\n",
       "      <td>night</td>\n",
       "      <td>Iraq</td>\n",
       "      <td>40222493</td>\n",
       "      <td>93</td>\n",
       "      <td>2</td>\n",
       "      <td>32</td>\n",
       "      <td>4</td>\n",
       "    </tr>\n",
       "  </tbody>\n",
       "</table>\n",
       "</div>"
      ],
      "text/plain": [
       "                                                 text sentiment Time of Tweet  \\\n",
       "76  WOW, i AM REALLY MiSSiN THE FAM(iLY) TODAY. BA...  negative          noon   \n",
       "77                                  My sources say no   neutral         night   \n",
       "78                                    I am sooo tired  negative       morning   \n",
       "79   Hey, you change your twitter account, and you...   neutral          noon   \n",
       "80                    THANK YYYYYYYYYOOOOOOOOOOUUUUU!  positive         night   \n",
       "\n",
       "      Country  Population -2020  Density (P/Km²)  word_count  char_count  \\\n",
       "76    Iceland            341243                3           9          50   \n",
       "77      India        1380004385              464           4          18   \n",
       "78  Indonesia         273523615              151           4          15   \n",
       "79       Iran          83992949               52          12          69   \n",
       "80       Iraq          40222493               93           2          32   \n",
       "\n",
       "    country_char_count  \n",
       "76                   7  \n",
       "77                   5  \n",
       "78                   9  \n",
       "79                   4  \n",
       "80                   4  "
      ]
     },
     "execution_count": 13,
     "metadata": {},
     "output_type": "execute_result"
    }
   ],
   "source": [
    "# Applying function to row\n",
    "# Row where Country name starts with 'I'\n",
    "df[df['Country'].apply(lambda country: country[0] == 'I')].head()"
   ]
  },
  {
   "cell_type": "code",
   "execution_count": 14,
   "metadata": {},
   "outputs": [
    {
     "data": {
      "text/html": [
       "<div>\n",
       "<style scoped>\n",
       "    .dataframe tbody tr th:only-of-type {\n",
       "        vertical-align: middle;\n",
       "    }\n",
       "\n",
       "    .dataframe tbody tr th {\n",
       "        vertical-align: top;\n",
       "    }\n",
       "\n",
       "    .dataframe thead th {\n",
       "        text-align: right;\n",
       "    }\n",
       "</style>\n",
       "<table border=\"1\" class=\"dataframe\">\n",
       "  <thead>\n",
       "    <tr style=\"text-align: right;\">\n",
       "      <th></th>\n",
       "      <th>sentiment</th>\n",
       "      <th>sentiment_value</th>\n",
       "      <th>Time of Tweet</th>\n",
       "      <th>time_value</th>\n",
       "    </tr>\n",
       "  </thead>\n",
       "  <tbody>\n",
       "    <tr>\n",
       "      <th>0</th>\n",
       "      <td>neutral</td>\n",
       "      <td>0</td>\n",
       "      <td>morning</td>\n",
       "      <td>M</td>\n",
       "    </tr>\n",
       "    <tr>\n",
       "      <th>1</th>\n",
       "      <td>negative</td>\n",
       "      <td>-1</td>\n",
       "      <td>noon</td>\n",
       "      <td>N</td>\n",
       "    </tr>\n",
       "    <tr>\n",
       "      <th>2</th>\n",
       "      <td>negative</td>\n",
       "      <td>-1</td>\n",
       "      <td>night</td>\n",
       "      <td>Ni</td>\n",
       "    </tr>\n",
       "    <tr>\n",
       "      <th>3</th>\n",
       "      <td>negative</td>\n",
       "      <td>-1</td>\n",
       "      <td>morning</td>\n",
       "      <td>M</td>\n",
       "    </tr>\n",
       "    <tr>\n",
       "      <th>4</th>\n",
       "      <td>negative</td>\n",
       "      <td>-1</td>\n",
       "      <td>noon</td>\n",
       "      <td>N</td>\n",
       "    </tr>\n",
       "  </tbody>\n",
       "</table>\n",
       "</div>"
      ],
      "text/plain": [
       "  sentiment  sentiment_value Time of Tweet time_value\n",
       "0   neutral                0       morning          M\n",
       "1  negative               -1          noon          N\n",
       "2  negative               -1         night         Ni\n",
       "3  negative               -1       morning          M\n",
       "4  negative               -1          noon          N"
      ]
     },
     "execution_count": 14,
     "metadata": {},
     "output_type": "execute_result"
    }
   ],
   "source": [
    "# Map Function\n",
    "sentiment_values = {\n",
    "    \"negative\" : -1,\n",
    "    \"neutral\" : 0,\n",
    "    \"positive\" : 1\n",
    "}\n",
    "\n",
    "df['sentiment_value'] = df['sentiment'].map(sentiment_values)\n",
    "\n",
    "# Using Replace\n",
    "\n",
    "time_values = {\n",
    "    'morning' : 'M',\n",
    "    'noon' : 'N',\n",
    "    'night' : 'Ni'\n",
    "}\n",
    "df['time_value'] = df['Time of Tweet'].replace(time_values)\n",
    "df[['sentiment', 'sentiment_value', 'Time of Tweet', 'time_value']].head()"
   ]
  },
  {
   "cell_type": "markdown",
   "metadata": {},
   "source": [
    "#### Grouping"
   ]
  },
  {
   "cell_type": "code",
   "execution_count": 15,
   "metadata": {},
   "outputs": [
    {
     "data": {
      "text/html": [
       "<div>\n",
       "<style scoped>\n",
       "    .dataframe tbody tr th:only-of-type {\n",
       "        vertical-align: middle;\n",
       "    }\n",
       "\n",
       "    .dataframe tbody tr th {\n",
       "        vertical-align: top;\n",
       "    }\n",
       "\n",
       "    .dataframe thead th {\n",
       "        text-align: right;\n",
       "    }\n",
       "</style>\n",
       "<table border=\"1\" class=\"dataframe\">\n",
       "  <thead>\n",
       "    <tr style=\"text-align: right;\">\n",
       "      <th></th>\n",
       "      <th>text</th>\n",
       "      <th>sentiment</th>\n",
       "      <th>Time of Tweet</th>\n",
       "      <th>Country</th>\n",
       "      <th>Population -2020</th>\n",
       "      <th>Density (P/Km²)</th>\n",
       "      <th>word_count</th>\n",
       "      <th>char_count</th>\n",
       "      <th>country_char_count</th>\n",
       "      <th>sentiment_value</th>\n",
       "      <th>time_value</th>\n",
       "    </tr>\n",
       "  </thead>\n",
       "  <tbody>\n",
       "    <tr>\n",
       "      <th>0</th>\n",
       "      <td>I`d have responded, if I were going</td>\n",
       "      <td>neutral</td>\n",
       "      <td>morning</td>\n",
       "      <td>Afghanistan</td>\n",
       "      <td>38928346</td>\n",
       "      <td>60</td>\n",
       "      <td>7</td>\n",
       "      <td>36</td>\n",
       "      <td>11</td>\n",
       "      <td>0</td>\n",
       "      <td>M</td>\n",
       "    </tr>\n",
       "    <tr>\n",
       "      <th>1</th>\n",
       "      <td>Sooo SAD I will miss you here in San Diego!!!</td>\n",
       "      <td>negative</td>\n",
       "      <td>noon</td>\n",
       "      <td>Albania</td>\n",
       "      <td>2877797</td>\n",
       "      <td>105</td>\n",
       "      <td>10</td>\n",
       "      <td>46</td>\n",
       "      <td>7</td>\n",
       "      <td>-1</td>\n",
       "      <td>N</td>\n",
       "    </tr>\n",
       "    <tr>\n",
       "      <th>2</th>\n",
       "      <td>my boss is bullying me...</td>\n",
       "      <td>negative</td>\n",
       "      <td>night</td>\n",
       "      <td>Algeria</td>\n",
       "      <td>43851044</td>\n",
       "      <td>18</td>\n",
       "      <td>5</td>\n",
       "      <td>25</td>\n",
       "      <td>7</td>\n",
       "      <td>-1</td>\n",
       "      <td>Ni</td>\n",
       "    </tr>\n",
       "  </tbody>\n",
       "</table>\n",
       "</div>"
      ],
      "text/plain": [
       "                                             text sentiment Time of Tweet  \\\n",
       "0             I`d have responded, if I were going   neutral       morning   \n",
       "1   Sooo SAD I will miss you here in San Diego!!!  negative          noon   \n",
       "2                       my boss is bullying me...  negative         night   \n",
       "\n",
       "       Country  Population -2020  Density (P/Km²)  word_count  char_count  \\\n",
       "0  Afghanistan          38928346               60           7          36   \n",
       "1      Albania           2877797              105          10          46   \n",
       "2      Algeria          43851044               18           5          25   \n",
       "\n",
       "   country_char_count  sentiment_value time_value  \n",
       "0                  11                0          M  \n",
       "1                   7               -1          N  \n",
       "2                   7               -1         Ni  "
      ]
     },
     "execution_count": 15,
     "metadata": {},
     "output_type": "execute_result"
    }
   ],
   "source": [
    "df.head(3)"
   ]
  },
  {
   "cell_type": "code",
   "execution_count": 16,
   "metadata": {},
   "outputs": [
    {
     "data": {
      "text/html": [
       "<div>\n",
       "<style scoped>\n",
       "    .dataframe tbody tr th:only-of-type {\n",
       "        vertical-align: middle;\n",
       "    }\n",
       "\n",
       "    .dataframe tbody tr th {\n",
       "        vertical-align: top;\n",
       "    }\n",
       "\n",
       "    .dataframe thead tr th {\n",
       "        text-align: left;\n",
       "    }\n",
       "\n",
       "    .dataframe thead tr:last-of-type th {\n",
       "        text-align: right;\n",
       "    }\n",
       "</style>\n",
       "<table border=\"1\" class=\"dataframe\">\n",
       "  <thead>\n",
       "    <tr>\n",
       "      <th></th>\n",
       "      <th colspan=\"4\" halign=\"left\">Population -2020</th>\n",
       "      <th colspan=\"4\" halign=\"left\">Density (P/Km²)</th>\n",
       "    </tr>\n",
       "    <tr>\n",
       "      <th></th>\n",
       "      <th>mean</th>\n",
       "      <th>std</th>\n",
       "      <th>min</th>\n",
       "      <th>max</th>\n",
       "      <th>mean</th>\n",
       "      <th>std</th>\n",
       "      <th>min</th>\n",
       "      <th>max</th>\n",
       "    </tr>\n",
       "    <tr>\n",
       "      <th>sentiment</th>\n",
       "      <th></th>\n",
       "      <th></th>\n",
       "      <th></th>\n",
       "      <th></th>\n",
       "      <th></th>\n",
       "      <th></th>\n",
       "      <th></th>\n",
       "      <th></th>\n",
       "    </tr>\n",
       "  </thead>\n",
       "  <tbody>\n",
       "    <tr>\n",
       "      <th>negative</th>\n",
       "      <td>4.017001e+07</td>\n",
       "      <td>1.523002e+08</td>\n",
       "      <td>801</td>\n",
       "      <td>1439323776</td>\n",
       "      <td>370.607634</td>\n",
       "      <td>2072.605010</td>\n",
       "      <td>2</td>\n",
       "      <td>26337</td>\n",
       "    </tr>\n",
       "    <tr>\n",
       "      <th>neutral</th>\n",
       "      <td>3.997186e+07</td>\n",
       "      <td>1.489267e+08</td>\n",
       "      <td>801</td>\n",
       "      <td>1439323776</td>\n",
       "      <td>363.194729</td>\n",
       "      <td>2058.009058</td>\n",
       "      <td>2</td>\n",
       "      <td>26337</td>\n",
       "    </tr>\n",
       "    <tr>\n",
       "      <th>positive</th>\n",
       "      <td>4.047462e+07</td>\n",
       "      <td>1.508850e+08</td>\n",
       "      <td>801</td>\n",
       "      <td>1439323776</td>\n",
       "      <td>338.835703</td>\n",
       "      <td>1898.439638</td>\n",
       "      <td>2</td>\n",
       "      <td>26337</td>\n",
       "    </tr>\n",
       "  </tbody>\n",
       "</table>\n",
       "</div>"
      ],
      "text/plain": [
       "          Population -2020                                Density (P/Km²)  \\\n",
       "                      mean           std  min         max            mean   \n",
       "sentiment                                                                   \n",
       "negative      4.017001e+07  1.523002e+08  801  1439323776      370.607634   \n",
       "neutral       3.997186e+07  1.489267e+08  801  1439323776      363.194729   \n",
       "positive      4.047462e+07  1.508850e+08  801  1439323776      338.835703   \n",
       "\n",
       "                                   \n",
       "                   std min    max  \n",
       "sentiment                          \n",
       "negative   2072.605010   2  26337  \n",
       "neutral    2058.009058   2  26337  \n",
       "positive   1898.439638   2  26337  "
      ]
     },
     "execution_count": 16,
     "metadata": {},
     "output_type": "execute_result"
    }
   ],
   "source": [
    "#df.groupby(by=['sentiment'])[['Population -2020', 'Density (P/Km²)']].describe()\n",
    "\n",
    "df.groupby(by=['sentiment'])[['Population -2020', 'Density (P/Km²)']].agg([\"mean\", \"std\", \"min\", \"max\"])\n"
   ]
  },
  {
   "cell_type": "markdown",
   "metadata": {},
   "source": [
    "## Preprocessing"
   ]
  },
  {
   "cell_type": "markdown",
   "metadata": {},
   "source": [
    "#### Handling Missing Values"
   ]
  },
  {
   "cell_type": "markdown",
   "metadata": {},
   "source": [
    "#### Conversion of Datatypes"
   ]
  },
  {
   "cell_type": "markdown",
   "metadata": {},
   "source": [
    "#### Handling Duplicates"
   ]
  },
  {
   "cell_type": "markdown",
   "metadata": {},
   "source": [
    "#### Handling Outliers"
   ]
  },
  {
   "cell_type": "markdown",
   "metadata": {},
   "source": [
    "#### Exploratory Data Analysis"
   ]
  },
  {
   "cell_type": "markdown",
   "metadata": {},
   "source": [
    "#### Train Test Split"
   ]
  },
  {
   "cell_type": "markdown",
   "metadata": {},
   "source": [
    "#### Feature Engineering"
   ]
  },
  {
   "cell_type": "markdown",
   "metadata": {},
   "source": [
    "#### Feature Selection"
   ]
  },
  {
   "cell_type": "markdown",
   "metadata": {},
   "source": [
    "#### Encoding Categorical Data"
   ]
  },
  {
   "cell_type": "markdown",
   "metadata": {},
   "source": [
    "#### Pipeline and ColumnTransformer"
   ]
  },
  {
   "cell_type": "markdown",
   "metadata": {},
   "source": [
    "#### Model Selection"
   ]
  },
  {
   "cell_type": "markdown",
   "metadata": {},
   "source": [
    "#### Model Training"
   ]
  },
  {
   "cell_type": "markdown",
   "metadata": {},
   "source": [
    "#### Model Evaluation"
   ]
  }
 ],
 "metadata": {
  "kernelspec": {
   "display_name": "venv",
   "language": "python",
   "name": "python3"
  },
  "language_info": {
   "codemirror_mode": {
    "name": "ipython",
    "version": 3
   },
   "file_extension": ".py",
   "mimetype": "text/x-python",
   "name": "python",
   "nbconvert_exporter": "python",
   "pygments_lexer": "ipython3",
   "version": "3.11.4"
  }
 },
 "nbformat": 4,
 "nbformat_minor": 2
}
